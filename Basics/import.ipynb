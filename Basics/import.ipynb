{
 "cells": [
  {
   "cell_type": "code",
   "execution_count": 1,
   "id": "36f082c5",
   "metadata": {},
   "outputs": [
    {
     "name": "stdout",
     "output_type": "stream",
     "text": [
      "2.5066282746310002\n",
      "1.5707963267948966\n"
     ]
    }
   ],
   "source": [
    "from math import sqrt, pi\n",
    "\n",
    "print(sqrt(2 * pi))\n",
    "print(pi / 2)"
   ]
  },
  {
   "cell_type": "code",
   "execution_count": 18,
   "id": "a428bf3d",
   "metadata": {},
   "outputs": [
    {
     "name": "stdout",
     "output_type": "stream",
     "text": [
      "5\n",
      "cherry\n"
     ]
    }
   ],
   "source": [
    "## random\n",
    "import random\n",
    "print(random.randint(1, 10))  # Random integer between 1 and 10\n",
    "print(random.choice(['apple', 'banana', 'cherry']))  # Random choice from a list"
   ]
  },
  {
   "cell_type": "code",
   "execution_count": null,
   "id": "78890734",
   "metadata": {},
   "outputs": [
    {
     "name": "stdout",
     "output_type": "stream",
     "text": [
      "d:\\python-basics\\1-Python-Basics\n",
      "['Conditions.ipynb', 'Datatypes.ipynb', 'Dictionaries.ipynb', 'for.py', 'Functions.ipynb', 'functions.py', 'import.ipynb', 'import.py', 'Lambda.ipynb', 'Lists.ipynb', 'logic.py', 'mypackage', 'test.ipynb', 'Tuples.ipynb', 'types.py', 'variables.ipynb', 'venv', '__pycache__']\n"
     ]
    }
   ],
   "source": [
    "## file and directory operations\n",
    "import os\n",
    "print(os.getcwd())  # Get current working directory\n",
    "print(os.listdir('.'))  # List files in the current directory\n",
    "os.mkdir('test_dir')  # Create a new directory named 'test_dir'\n"
   ]
  },
  {
   "cell_type": "code",
   "execution_count": 23,
   "id": "45947d15",
   "metadata": {},
   "outputs": [
    {
     "name": "stdout",
     "output_type": "stream",
     "text": [
      "5\n"
     ]
    }
   ],
   "source": [
    "## custom package\n",
    "from mypackage.mymodule import add\n",
    "print(add(3, 2))\n",
    "\n"
   ]
  }
 ],
 "metadata": {
  "kernelspec": {
   "display_name": "base",
   "language": "python",
   "name": "python3"
  },
  "language_info": {
   "codemirror_mode": {
    "name": "ipython",
    "version": 3
   },
   "file_extension": ".py",
   "mimetype": "text/x-python",
   "name": "python",
   "nbconvert_exporter": "python",
   "pygments_lexer": "ipython3",
   "version": "3.12.7"
  }
 },
 "nbformat": 4,
 "nbformat_minor": 5
}
