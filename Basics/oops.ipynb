{
 "cells": [
  {
   "cell_type": "code",
   "execution_count": null,
   "id": "f7588185",
   "metadata": {},
   "outputs": [
    {
     "name": "stdout",
     "output_type": "stream",
     "text": [
      "2010 - tata - nano\n",
      "tata nano has driven 10000 miles.\n"
     ]
    }
   ],
   "source": [
    "#Class\n",
    "class Car:\n",
    "    #constructor\n",
    "    def __init__(self, make, model, year):\n",
    "        self.make = make\n",
    "        self.model = model\n",
    "        self.year = year\n",
    "\n",
    "    def mileage(self, miles):\n",
    "        self.miles = miles\n",
    "        return f\"{self.make} {self.model} has driven {self.miles} miles.\"\n",
    "    \n",
    "    #string representation\n",
    "    # __str__ method\n",
    "    def __str__(self):\n",
    "        return f\"{self.year} - {self.make} - {self.model}\"    \n",
    "\n",
    "car_nano = Car(\"tata\", \"nano\", 2010)\n",
    "print(car_nano.__str__())\n",
    "car_nano.mileage(10000)\n",
    "print(car_nano.mileage(10000))"
   ]
  },
  {
   "cell_type": "code",
   "execution_count": 10,
   "id": "0d928ae5",
   "metadata": {},
   "outputs": [
    {
     "name": "stdout",
     "output_type": "stream",
     "text": [
      "Account 123456789 - John Doe: Balance $1000\n",
      "Deposited 500. New balance is 1500.\n",
      "Withdrew 200. New balance is 1300.\n",
      "Insufficient funds.\n"
     ]
    }
   ],
   "source": [
    "## Bank Account\n",
    "class BankAccount:\n",
    "    def __init__(self, account_number, account_holder, balance=0):\n",
    "        self.account_number = account_number\n",
    "        self.account_holder = account_holder\n",
    "        self.balance = balance\n",
    "\n",
    "    def deposit(self, amount):\n",
    "        self.balance += amount\n",
    "        return f\"Deposited {amount}. New balance is {self.balance}.\"\n",
    "\n",
    "    def withdraw(self, amount):\n",
    "        if amount > self.balance:\n",
    "            return \"Insufficient funds.\"\n",
    "        self.balance -= amount\n",
    "        return f\"Withdrew {amount}. New balance is {self.balance}.\"\n",
    "\n",
    "    def __str__(self):\n",
    "        return f\"Account {self.account_number} - {self.account_holder}: Balance ${self.balance}\"\n",
    "    \n",
    "\n",
    "# Example usage\n",
    "account = BankAccount(\"123456789\", \"John Doe\", 1000)\n",
    "\n",
    "print(account)\n",
    "print(account.deposit(500)) \n",
    "print(account.withdraw(200))\n",
    "print(account.withdraw(1500))  # Attempt to withdraw more than balance\n"
   ]
  }
 ],
 "metadata": {
  "kernelspec": {
   "display_name": "base",
   "language": "python",
   "name": "python3"
  },
  "language_info": {
   "codemirror_mode": {
    "name": "ipython",
    "version": 3
   },
   "file_extension": ".py",
   "mimetype": "text/x-python",
   "name": "python",
   "nbconvert_exporter": "python",
   "pygments_lexer": "ipython3",
   "version": "3.12.7"
  }
 },
 "nbformat": 4,
 "nbformat_minor": 5
}
