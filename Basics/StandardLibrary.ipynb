{
 "cells": [
  {
   "cell_type": "code",
   "execution_count": null,
   "id": "d52d4c34",
   "metadata": {},
   "outputs": [],
   "source": [
    "#high level file operations\n",
    "import shutil, os\n",
    "\n",
    "with open('source.txt', 'w') as f:\n",
    "    f.write('Hello, World!')  # Create a file and write to it\n",
    "\n",
    "shutil.copy('source.txt', 'destination.txt')  # Copy a file\n",
    "\n",
    "print('Files in current directory after copy:')\n",
    "print(os.listdir('.'))  # List files in the current directory after copy"
   ]
  },
  {
   "cell_type": "code",
   "execution_count": 2,
   "id": "a0dd81c4",
   "metadata": {},
   "outputs": [
    {
     "name": "stdout",
     "output_type": "stream",
     "text": [
      "CSV file contents:\n",
      "['name', 'age']\n",
      "['Alice', '30']\n",
      "['Bob', '25']\n"
     ]
    }
   ],
   "source": [
    "#CSV\n",
    "import csv\n",
    "with open('data.csv', 'w', newline='') as csvfile:\n",
    "    fieldnames = ['name', 'age']\n",
    "    writer = csv.DictWriter(csvfile, fieldnames=fieldnames)\n",
    "\n",
    "    writer.writeheader()\n",
    "    writer.writerow({'name': 'Alice', 'age': 30})\n",
    "    writer.writerow({'name': 'Bob', 'age': 25})\n",
    "\n",
    "with open('data.csv', 'r') as csvfile:    \n",
    "    reader = csv.reader(csvfile)\n",
    "    print('CSV file contents:') \n",
    "    for row in reader:\n",
    "        print(row)  # Read and print the CSV file contents"
   ]
  },
  {
   "cell_type": "code",
   "execution_count": 8,
   "id": "3a3f97a6",
   "metadata": {},
   "outputs": [
    {
     "name": "stdout",
     "output_type": "stream",
     "text": [
      "Current date and time: 2025-06-06 11:42:31.001048\n",
      "Yesterday was: 2025-06-05 11:42:31.001048\n",
      "Before sleep:  Fri Jun  6 11:42:31 2025\n",
      "After sleep:  Fri Jun  6 11:42:41 2025\n"
     ]
    }
   ],
   "source": [
    "# Datetime\n",
    "from datetime import datetime, timedelta\n",
    "now = datetime.now()  # Get the current date and time\n",
    "print('Current date and time:', now)\n",
    "\n",
    "yesterday = timedelta(days=1)  # Calculate yesterday's date\n",
    "print('Yesterday was:', now - yesterday)\n",
    "\n",
    "#Sleep\n",
    "import time\n",
    "print(\"Before sleep: \", time.ctime())\n",
    "time.sleep(10)\n",
    "print(\"After sleep: \", time.ctime())\n",
    "\n"
   ]
  }
 ],
 "metadata": {
  "kernelspec": {
   "display_name": "base",
   "language": "python",
   "name": "python3"
  },
  "language_info": {
   "codemirror_mode": {
    "name": "ipython",
    "version": 3
   },
   "file_extension": ".py",
   "mimetype": "text/x-python",
   "name": "python",
   "nbconvert_exporter": "python",
   "pygments_lexer": "ipython3",
   "version": "3.12.7"
  }
 },
 "nbformat": 4,
 "nbformat_minor": 5
}
