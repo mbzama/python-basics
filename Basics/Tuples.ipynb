{
 "cells": [
  {
   "cell_type": "code",
   "execution_count": null,
   "id": "12c30237",
   "metadata": {},
   "outputs": [
    {
     "name": "stdout",
     "output_type": "stream",
     "text": [
      "Original tuple: (1, 2, 3, 'hello', True, 1)  Type:  <class 'tuple'>\n",
      "First element: 1\n",
      "Packed tuple: (1, 2, 3)\n",
      "a: 1 , b:  2 , c:  3\n"
     ]
    }
   ],
   "source": [
    "## Tuples are immutable sequences in Python.\n",
    "# They are often used to store related pieces of data together.\n",
    "# Tuples can be created by placing a comma-separated sequence of values inside parentheses.\n",
    "# Example of creating a tuple\n",
    "my_tuple = (1, 2, 3, \"hello\", True, 1)\n",
    "print(\"Original tuple:\", my_tuple, \" Type: \", type(my_tuple))\n",
    "\n",
    "#Accessing elements in a tuple\n",
    "print(\"First element:\", my_tuple[0])\n",
    "\n",
    "# packing and unpacking tuples\n",
    "packed_tuple = (1, 2, 3)\n",
    "print(\"Packed tuple:\", packed_tuple)\n",
    "a,b,c = packed_tuple\n",
    "print(\"a:\", a, \", b: \", b, \", c: \", c)\n",
    "\n",
    "\n",
    "# List methods (many)\n",
    "my_list = [1, 2, 3]\n",
    "print(dir(my_list))  # append, remove, insert, pop, sort, etc.\n",
    "\n",
    "# Tuple methods (only 2)\n",
    "my_tuple = (1, 2, 3)\n",
    "print(dir(my_tuple))  # Only count() and index()"
   ]
  }
 ],
 "metadata": {
  "kernelspec": {
   "display_name": "base",
   "language": "python",
   "name": "python3"
  },
  "language_info": {
   "codemirror_mode": {
    "name": "ipython",
    "version": 3
   },
   "file_extension": ".py",
   "mimetype": "text/x-python",
   "name": "python",
   "nbconvert_exporter": "python",
   "pygments_lexer": "ipython3",
   "version": "3.12.7"
  }
 },
 "nbformat": 4,
 "nbformat_minor": 5
}
