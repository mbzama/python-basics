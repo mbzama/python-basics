{
 "cells": [
  {
   "cell_type": "code",
   "execution_count": 5,
   "id": "c69bcb53",
   "metadata": {},
   "outputs": [
    {
     "name": "stdout",
     "output_type": "stream",
     "text": [
      "Length: 0 , Type:  <class 'list'>\n",
      "Initial list: []\n",
      "Length: 3 , Type:  <class 'list'>\n",
      "Initial list: [1, 2, 'zama']\n",
      "First element: 1\n",
      "Last element: zama\n"
     ]
    }
   ],
   "source": [
    "## List example\n",
    "mylist = []\n",
    "print (\"Length:\", len(mylist), \", Type: \", type(mylist))\n",
    "print(\"Initial list:\", mylist)\n",
    "\n",
    "mylist.append(1)\n",
    "mylist.append(2)\n",
    "mylist.append(\"zama\")\n",
    "print (\"Length:\", len(mylist), \", Type: \", type(mylist))\n",
    "print(\"Initial list:\", mylist)\n",
    "\n",
    "## Accessing elements\n",
    "print(\"First element:\", mylist[0])\n",
    "print(\"Last element:\", mylist[-1])"
   ]
  },
  {
   "cell_type": "code",
   "execution_count": 8,
   "id": "9b474a2c",
   "metadata": {},
   "outputs": [
    {
     "name": "stdout",
     "output_type": "stream",
     "text": [
      "Squares using loop: [0, 1, 4, 9, 16, 25, 36, 49, 64, 81]\n",
      "Squares using list comprehension: [0, 1, 4, 9, 16, 25, 36, 49, 64, 81]\n",
      "Squares of even numbers using list comprehension: [0, 4, 16, 36, 64]\n"
     ]
    }
   ],
   "source": [
    "## List Comprehension\n",
    "squares = []\n",
    "for x in range(10):\n",
    "    squares.append(x**2)\n",
    "print(\"Squares using loop:\", squares)\n",
    "\n",
    "## Synatax for list comprehension: [expression for item in iterable]\n",
    "squares_comp = [x**2 for x in range(10)]\n",
    "print(\"Squares using list comprehension:\", squares_comp)\n",
    "\n",
    "## Synatax for list comprehension: [expression for item in iterable if condition]\n",
    "squares_even = [x**2 for x in range(10) if x % 2 == 0]\n",
    "print(\"Squares of even numbers using list comprehension:\", squares_even)\n"
   ]
  }
 ],
 "metadata": {
  "kernelspec": {
   "display_name": "base",
   "language": "python",
   "name": "python3"
  },
  "language_info": {
   "codemirror_mode": {
    "name": "ipython",
    "version": 3
   },
   "file_extension": ".py",
   "mimetype": "text/x-python",
   "name": "python",
   "nbconvert_exporter": "python",
   "pygments_lexer": "ipython3",
   "version": "3.12.7"
  }
 },
 "nbformat": 4,
 "nbformat_minor": 5
}
