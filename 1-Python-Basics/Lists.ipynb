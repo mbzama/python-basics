{
 "cells": [
  {
   "cell_type": "code",
   "execution_count": 5,
   "id": "c69bcb53",
   "metadata": {},
   "outputs": [
    {
     "name": "stdout",
     "output_type": "stream",
     "text": [
      "Length: 0 , Type:  <class 'list'>\n",
      "Initial list: []\n",
      "Length: 3 , Type:  <class 'list'>\n",
      "Initial list: [1, 2, 'zama']\n",
      "First element: 1\n",
      "Last element: zama\n"
     ]
    }
   ],
   "source": [
    "## List example\n",
    "mylist = []\n",
    "print (\"Length:\", len(mylist), \", Type: \", type(mylist))\n",
    "print(\"Initial list:\", mylist)\n",
    "\n",
    "mylist.append(1)\n",
    "mylist.append(2)\n",
    "mylist.append(\"zama\")\n",
    "print (\"Length:\", len(mylist), \", Type: \", type(mylist))\n",
    "print(\"Initial list:\", mylist)\n",
    "\n",
    "## Accessing elements\n",
    "print(\"First element:\", mylist[0])\n",
    "print(\"Last element:\", mylist[-1])"
   ]
  },
  {
   "cell_type": "code",
   "execution_count": 10,
   "id": "9b474a2c",
   "metadata": {},
   "outputs": [
    {
     "name": "stdout",
     "output_type": "stream",
     "text": [
      "Squares using loop: [0, 1, 4, 9, 16, 25, 36, 49, 64, 81]\n",
      "Squares using list comprehension: [0, 1, 4, 9, 16, 25, 36, 49, 64, 81]\n",
      "Squares of even numbers using list comprehension: [0, 4, 16, 36, 64]\n",
      "Pairs using list comprehension: [(1, 'a'), (1, 'b'), (1, 'c'), (1, 'd'), (2, 'a'), (2, 'b'), (2, 'c'), (2, 'd'), (3, 'a'), (3, 'b'), (3, 'c'), (3, 'd'), (4, 'a'), (4, 'b'), (4, 'c'), (4, 'd')]\n",
      "Uppercase words using list comprehension: ['HELLO', 'WORLD', 'PYTHON']\n"
     ]
    }
   ],
   "source": [
    "## List Comprehension\n",
    "squares = []\n",
    "for x in range(10):\n",
    "    squares.append(x**2)\n",
    "print(\"Squares using loop:\", squares)\n",
    "\n",
    "## Synatax for list comprehension: [expression for item in iterable]\n",
    "squares_comp = [x**2 for x in range(10)]\n",
    "print(\"Squares using list comprehension:\", squares_comp)\n",
    "\n",
    "## Synatax for list comprehension: [expression for item in iterable if condition]\n",
    "squares_even = [x**2 for x in range(10) if x % 2 == 0]\n",
    "print(\"Squares of even numbers using list comprehension:\", squares_even)\n",
    "\n",
    "## List Comprehension with nested loops: [expression for item1 in iterable1 for item2 in iterable2] \n",
    "list1 = [1, 2, 3, 4]\n",
    "list2 = ['a', 'b', 'c', 'd']\n",
    "\n",
    "pair = [(i,j) for i in list1 for j in list2]\n",
    "print(\"Pairs using list comprehension:\", pair)\n",
    "\n",
    "## list compresion with function calls\n",
    "words = ['hello', 'world', 'python']\n",
    "uppercase_words = [word.upper() for word in words]\n",
    "print(\"Uppercase words using list comprehension:\", uppercase_words)"
   ]
  }
 ],
 "metadata": {
  "kernelspec": {
   "display_name": "base",
   "language": "python",
   "name": "python3"
  },
  "language_info": {
   "codemirror_mode": {
    "name": "ipython",
    "version": 3
   },
   "file_extension": ".py",
   "mimetype": "text/x-python",
   "name": "python",
   "nbconvert_exporter": "python",
   "pygments_lexer": "ipython3",
   "version": "3.12.7"
  }
 },
 "nbformat": 4,
 "nbformat_minor": 5
}
