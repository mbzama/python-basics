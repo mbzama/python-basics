{
 "cells": [
  {
   "cell_type": "code",
   "execution_count": 7,
   "id": "5f964647",
   "metadata": {},
   "outputs": [
    {
     "name": "stdout",
     "output_type": "stream",
     "text": [
      "10\n",
      "10.5\n",
      "True <class 'bool'>\n",
      "Zama md\n",
      "ZAMA MD\n",
      "7\n"
     ]
    }
   ],
   "source": [
    "## integer\n",
    "a = 10\n",
    "print(a)\n",
    "\n",
    "### float\n",
    "b = 10.5    \n",
    "print(b)    \n",
    "\n",
    "## boolean\n",
    "c = True\n",
    "print(c, type(c))\n",
    "\n",
    "## String\n",
    "name = \"zama md\"\n",
    "print(name.capitalize())\n",
    "print(name.upper())\n",
    "print(name.__len__())\n"
   ]
  }
 ],
 "metadata": {
  "kernelspec": {
   "display_name": "base",
   "language": "python",
   "name": "python3"
  },
  "language_info": {
   "codemirror_mode": {
    "name": "ipython",
    "version": 3
   },
   "file_extension": ".py",
   "mimetype": "text/x-python",
   "name": "python",
   "nbconvert_exporter": "python",
   "pygments_lexer": "ipython3",
   "version": "3.12.7"
  }
 },
 "nbformat": 4,
 "nbformat_minor": 5
}
