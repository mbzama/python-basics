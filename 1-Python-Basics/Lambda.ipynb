{
 "cells": [
  {
   "cell_type": "code",
   "execution_count": 6,
   "id": "0acee91b",
   "metadata": {},
   "outputs": [
    {
     "name": "stdout",
     "output_type": "stream",
     "text": [
      "add_lambda(2, 3) =  5\n",
      "map(square_lambda, [1, 2, 3]) =  [1, 4, 9]\n",
      "filter(is_even_lambda, [1, 2, 3, 4, 5]) =  [2, 4]\n",
      "<map object at 0x0000013FAB941690>\n",
      "[5, 10, 15, 20, 25]\n"
     ]
    }
   ],
   "source": [
    "## function\n",
    "def add(a,b):\n",
    "    return a + b\n",
    "\n",
    "# anonymous function\n",
    "add_lambda = lambda a, b: a + b\n",
    "print(\"add_lambda(2, 3) = \", add_lambda(2, 3))\n",
    "\n",
    "# lambda with map - applies a function to all items in an iterable\n",
    "def square(x):\n",
    "    return x * x\n",
    "\n",
    "# anonymous function with map\n",
    "square_lambda = lambda x: x * x\n",
    "print(\"map(square_lambda, [1, 2, 3]) = \", list(map(square_lambda, [1, 2, 3])))\n",
    "\n",
    "# lambda with filter\n",
    "def is_even(x):\n",
    "    return x % 2 == 0 \n",
    "\n",
    "# anonymous function with filter\n",
    "is_even_lambda = lambda x: x % 2 == 0\n",
    "print(\"filter(is_even_lambda, [1, 2, 3, 4, 5]) = \", list(filter(is_even_lambda, [1, 2, 3, 4, 5])))\n",
    "\n",
    "\n",
    "#map example 2\n",
    "numbers = [1, 2, 3, 4, 5]\n",
    "m = map(lambda x:x*5, numbers)\n",
    "print(m)\n",
    "print(list(m))\n"
   ]
  }
 ],
 "metadata": {
  "kernelspec": {
   "display_name": "base",
   "language": "python",
   "name": "python3"
  },
  "language_info": {
   "codemirror_mode": {
    "name": "ipython",
    "version": 3
   },
   "file_extension": ".py",
   "mimetype": "text/x-python",
   "name": "python",
   "nbconvert_exporter": "python",
   "pygments_lexer": "ipython3",
   "version": "3.12.7"
  }
 },
 "nbformat": 4,
 "nbformat_minor": 5
}
