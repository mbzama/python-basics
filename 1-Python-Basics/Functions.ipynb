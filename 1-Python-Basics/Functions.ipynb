{
 "cells": [
  {
   "cell_type": "code",
   "execution_count": 10,
   "id": "723b9f75",
   "metadata": {},
   "outputs": [
    {
     "name": "stdout",
     "output_type": "stream",
     "text": [
      "Please enter a valid integer. Provided value was: test\n"
     ]
    }
   ],
   "source": [
    "## Function is a block of code that performs a specific task.\n",
    "def even_or_odd(number):\n",
    "    \"\"\"\n",
    "    This function checks if a number is even or odd.\n",
    "    \n",
    "    Parameters:\n",
    "    number (int): The number to check.\n",
    "    \n",
    "    Returns:\n",
    "    str: 'Even' if the number is even, 'Odd' if the number is odd.\n",
    "    \"\"\"\n",
    "    if number % 2 == 0:\n",
    "        return \"Even\"\n",
    "    else:\n",
    "        return \"Odd\"\n",
    "\n",
    "#Safe check\n",
    "input_number = input(\"Enter a number: \")\n",
    "try:    \n",
    "    result = even_or_odd(int(input_number))\n",
    "    print(f\"The number {input_number} is {result}.\")\n",
    "except ValueError:\n",
    "    print(f\"Please enter a valid integer. Provided value was: {input_number}\")\n"
   ]
  },
  {
   "cell_type": "code",
   "execution_count": 16,
   "id": "b2621b5b",
   "metadata": {},
   "outputs": [
    {
     "name": "stdout",
     "output_type": "stream",
     "text": [
      "The sum of (1, 2, 3, 4, 5) is 15.\n",
      "Name: Alice, Age: 30\n",
      "name: Alice\n",
      "age: 30\n",
      "city: New York\n",
      "occupation: Engineer\n",
      "\n",
      "Name: Bob, Age: 25\n",
      "name: Bob\n",
      "age: 25\n",
      "city: Los Angeles\n",
      "occupation: Designer\n",
      "\n"
     ]
    }
   ],
   "source": [
    "##Variable args\n",
    "def add_numbers(*args):\n",
    "    \"\"\"\n",
    "    This function adds any number of arguments together.\n",
    "    Parameters:\n",
    "    *args (int): The numbers to add.\n",
    "    \"\"\"\n",
    "    total = 0\n",
    "    for number in args:\n",
    "        total += number\n",
    "    return total\n",
    "\n",
    "# Example usage of add_numbers function\n",
    "input = (1, 2, 3, 4, 5)\n",
    "result = add_numbers(*input)\n",
    "print(f\"The sum of {input} is {result}.\")\n",
    "\n",
    "\n",
    "##Keyword args\n",
    "def print_info(**kwargs):\n",
    "    \"\"\"\n",
    "    This function prints the name and age, and any additional keyword arguments.\n",
    "    \n",
    "    Parameters:\n",
    "    name (str): The name of the person.\n",
    "    age (int): The age of the person.\n",
    "    **kwargs: Additional keyword arguments.\n",
    "    \"\"\"\n",
    "    name = kwargs.get('name', 'Unknown')\n",
    "    age = kwargs.get('age', 'Unknown')\n",
    "\n",
    "\n",
    "    print(f\"Name: {name}, Age: {age}\")\n",
    "    for key, value in kwargs.items():\n",
    "        print(f\"{key}: {value}\")\n",
    "\n",
    "# Example usage of print_info function\n",
    "students = [{\n",
    "    \"name\": \"Alice\",\n",
    "    \"age\": 30,\n",
    "    \"city\": \"New York\",\n",
    "    \"occupation\": \"Engineer\"\n",
    "}, {\n",
    "    \"name\": \"Bob\",\n",
    "    \"age\": 25,\n",
    "    \"city\": \"Los Angeles\",\n",
    "    \"occupation\": \"Designer\"\n",
    "}]\n",
    "for student in students:\n",
    "    print_info(**student)\n",
    "    print()  # Print a newline for better readability\n"
   ]
  }
 ],
 "metadata": {
  "kernelspec": {
   "display_name": "base",
   "language": "python",
   "name": "python3"
  },
  "language_info": {
   "codemirror_mode": {
    "name": "ipython",
    "version": 3
   },
   "file_extension": ".py",
   "mimetype": "text/x-python",
   "name": "python",
   "nbconvert_exporter": "python",
   "pygments_lexer": "ipython3",
   "version": "3.12.7"
  }
 },
 "nbformat": 4,
 "nbformat_minor": 5
}
