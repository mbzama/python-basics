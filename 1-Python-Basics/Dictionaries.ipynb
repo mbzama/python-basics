{
 "cells": [
  {
   "cell_type": "code",
   "execution_count": 5,
   "id": "598d1706",
   "metadata": {},
   "outputs": [
    {
     "name": "stdout",
     "output_type": "stream",
     "text": [
      "student = {'name': 'John Doe', 'age': 20, 'major': 'Computer Science'} \n",
      "len(student) = 3 \n",
      "type(student) = <class 'dict'>\n"
     ]
    }
   ],
   "source": [
    "student = {\"name\": \"John Doe\", \"age\": 20, \"major\": \"Computer Science\"}\n",
    "print(\"student =\", student, \"\\nlen(student) =\", len(student), \"\\ntype(student) =\", type(student))\n",
    "\n",
    "\n"
   ]
  },
  {
   "cell_type": "code",
   "execution_count": 7,
   "id": "d92fc326",
   "metadata": {},
   "outputs": [
    {
     "name": "stdout",
     "output_type": "stream",
     "text": [
      "\n",
      "Number of students in the class: 3\n",
      "\n",
      "test is not enrolled in the class.\n"
     ]
    }
   ],
   "source": [
    "## Practical examples\n",
    "\n",
    "def find_student_by_name (students, name):\n",
    "    \"\"\"Find a student by their name in the students dictionary.\"\"\"\n",
    "    for student_name, details in students.items():\n",
    "        if student_name.lower() == name.lower():\n",
    "            return details\n",
    "    return None\n",
    "\n",
    "# Example 1: Count the number of students in a class\n",
    "students = {\n",
    "    \"Alice\": {\"age\": 21, \"major\": \"Mathematics\"},\n",
    "    \"Bob\": {\"age\": 22, \"major\": \"Physics\"},\n",
    "    \"Charlie\": {\"age\": 20, \"major\": \"Chemistry\"}\n",
    "}\n",
    "print(\"\\nNumber of students in the class:\", len(students))\n",
    "\n",
    "# Example 2: Check if a specific student is enrolled\n",
    "student_name = input(\"\\nEnter the name of the student to check enrollment: \")\n",
    "student = find_student_by_name(students, student_name)\n",
    "if student:\n",
    "    print(f\"\\n{student_name} is enrolled in the class.\")\n",
    "    print(\"Details:\", student)\n",
    "\n",
    "else:\n",
    "    print(f\"\\n{student_name} is not enrolled in the class.\")\n",
    "\n"
   ]
  },
  {
   "cell_type": "code",
   "execution_count": null,
   "id": "3deb7f94",
   "metadata": {},
   "outputs": [
    {
     "name": "stdout",
     "output_type": "stream",
     "text": [
      "\n",
      "Merged dictionary: {'a': 1, 'b': 2, 'c': 5, 'x': 4}\n"
     ]
    }
   ],
   "source": [
    "## Merge dictionaries\n",
    "dict1 = {\"a\": 1, \"b\": 2, \"c\": 3}\n",
    "dict2 = {\"x\": 4, \"y\": 5}\n",
    "\n",
    "merged_dict = { **dict1, **dict2 }\n",
    "print(\"\\nMerged dictionary:\", merged_dict)"
   ]
  }
 ],
 "metadata": {
  "kernelspec": {
   "display_name": "base",
   "language": "python",
   "name": "python3"
  },
  "language_info": {
   "codemirror_mode": {
    "name": "ipython",
    "version": 3
   },
   "file_extension": ".py",
   "mimetype": "text/x-python",
   "name": "python",
   "nbconvert_exporter": "python",
   "pygments_lexer": "ipython3",
   "version": "3.12.7"
  }
 },
 "nbformat": 4,
 "nbformat_minor": 5
}
