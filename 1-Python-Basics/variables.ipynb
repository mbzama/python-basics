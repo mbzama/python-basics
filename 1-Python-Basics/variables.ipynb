{
 "cells": [
  {
   "cell_type": "code",
   "execution_count": 10,
   "id": "64e20eca",
   "metadata": {},
   "outputs": [
    {
     "name": "stdout",
     "output_type": "stream",
     "text": [
      "name:  zama , age:  40\n"
     ]
    }
   ],
   "source": [
    "age=40\n",
    "name=\"zama\"\n",
    "height=5.10\n",
    "\n",
    "print(\"name: \", name, \", age: \", age)\n"
   ]
  },
  {
   "cell_type": "code",
   "execution_count": 11,
   "id": "9ed9fd87",
   "metadata": {},
   "outputs": [
    {
     "name": "stdout",
     "output_type": "stream",
     "text": [
      "40\n",
      "40\n"
     ]
    }
   ],
   "source": [
    "## python is dynamically typed language\n",
    "## variable type is determined at runtime\n",
    "## type conversion\n",
    "\n",
    "age_str = str(age)\n",
    "print(age_str)\n",
    "\n",
    "age_int = int(age_str)\n",
    "print(age_int)\n"
   ]
  },
  {
   "cell_type": "code",
   "execution_count": 12,
   "id": "4b8e2bcb",
   "metadata": {},
   "outputs": [
    {
     "name": "stdout",
     "output_type": "stream",
     "text": [
      "10 <class 'int'>\n",
      "hello <class 'str'>\n"
     ]
    }
   ],
   "source": [
    "## Dynamic typing example\n",
    "\n",
    "var = 10\n",
    "print(var, type(var))\n",
    "var = \"hello\"\n",
    "print(var, type(var))\n"
   ]
  },
  {
   "cell_type": "code",
   "execution_count": 16,
   "id": "4eebc4f5",
   "metadata": {},
   "outputs": [
    {
     "name": "stdout",
     "output_type": "stream",
     "text": [
      "name:  zama\n"
     ]
    },
    {
     "ename": "ValueError",
     "evalue": "invalid literal for int() with base 10: 'r'",
     "output_type": "error",
     "traceback": [
      "\u001b[1;31m---------------------------------------------------------------------------\u001b[0m",
      "\u001b[1;31mValueError\u001b[0m                                Traceback (most recent call last)",
      "Cell \u001b[1;32mIn[16], line 5\u001b[0m\n\u001b[0;32m      2\u001b[0m name \u001b[38;5;241m=\u001b[39m \u001b[38;5;28minput\u001b[39m(\u001b[38;5;124m\"\u001b[39m\u001b[38;5;124mEnter your name: \u001b[39m\u001b[38;5;124m\"\u001b[39m)\n\u001b[0;32m      3\u001b[0m \u001b[38;5;28mprint\u001b[39m(\u001b[38;5;124m\"\u001b[39m\u001b[38;5;124mname: \u001b[39m\u001b[38;5;124m\"\u001b[39m,name)\n\u001b[1;32m----> 5\u001b[0m age \u001b[38;5;241m=\u001b[39m \u001b[38;5;28mint\u001b[39m(\u001b[38;5;28minput\u001b[39m(\u001b[38;5;124m\"\u001b[39m\u001b[38;5;124mEnter your age: \u001b[39m\u001b[38;5;124m\"\u001b[39m))\n\u001b[0;32m      6\u001b[0m \u001b[38;5;28mprint\u001b[39m(\u001b[38;5;124m\"\u001b[39m\u001b[38;5;124mage: \u001b[39m\u001b[38;5;124m\"\u001b[39m, age, \u001b[38;5;124m\"\u001b[39m\u001b[38;5;124m type: \u001b[39m\u001b[38;5;124m\"\u001b[39m, \u001b[38;5;28mtype\u001b[39m(age))\n",
      "\u001b[1;31mValueError\u001b[0m: invalid literal for int() with base 10: 'r'"
     ]
    }
   ],
   "source": [
    "## User input example\n",
    "name = input(\"Enter your name: \")\n",
    "print(\"name: \",name)\n",
    "\n",
    "age = int(input(\"Enter your age: \"))\n",
    "print(\"age: \", age, \" type: \", type(age))"
   ]
  }
 ],
 "metadata": {
  "kernelspec": {
   "display_name": "base",
   "language": "python",
   "name": "python3"
  },
  "language_info": {
   "codemirror_mode": {
    "name": "ipython",
    "version": 3
   },
   "file_extension": ".py",
   "mimetype": "text/x-python",
   "name": "python",
   "nbconvert_exporter": "python",
   "pygments_lexer": "ipython3",
   "version": "3.12.7"
  }
 },
 "nbformat": 4,
 "nbformat_minor": 5
}
